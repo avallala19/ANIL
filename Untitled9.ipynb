{
 "cells": [
  {
   "cell_type": "code",
   "execution_count": 2,
   "id": "5d598cea",
   "metadata": {},
   "outputs": [
    {
     "name": "stdout",
     "output_type": "stream",
     "text": [
      "your order is not available:\n"
     ]
    }
   ],
   "source": [
    "Y=[\"DASARA\",\"LADDU\",\"IDLI\",\"PULIHORA\"]\n",
    "K=[\"BIRYANI\",\"FISH\",\"CHICKEN\",\"PRAWNS\"]\n",
    "if Y==\"APPDAM\":\n",
    "    print(\"your order is available:\")\n",
    "elif K!=\"DUM BIRYANI\":                                    # VEG AND NON VEG PROGRAM USING CONDITIONAL STATEMENTS\n",
    "    print(\"your order is not available:\")\n",
    "else:\n",
    "    print(\"your order is to make few days:\")\n",
    "    "
   ]
  },
  {
   "cell_type": "code",
   "execution_count": null,
   "id": "5970d554",
   "metadata": {},
   "outputs": [],
   "source": []
  }
 ],
 "metadata": {
  "kernelspec": {
   "display_name": "Python 3 (ipykernel)",
   "language": "python",
   "name": "python3"
  },
  "language_info": {
   "codemirror_mode": {
    "name": "ipython",
    "version": 3
   },
   "file_extension": ".py",
   "mimetype": "text/x-python",
   "name": "python",
   "nbconvert_exporter": "python",
   "pygments_lexer": "ipython3",
   "version": "3.11.5"
  }
 },
 "nbformat": 4,
 "nbformat_minor": 5
}
