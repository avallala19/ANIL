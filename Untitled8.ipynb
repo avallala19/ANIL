{
 "cells": [
  {
   "cell_type": "code",
   "execution_count": 1,
   "id": "bbc47ae2",
   "metadata": {},
   "outputs": [
    {
     "name": "stdout",
     "output_type": "stream",
     "text": [
      "hai,my location is KPHB\n"
     ]
    }
   ],
   "source": [
    "def yellow(location):\n",
    "    print(f\"hai,my location is {location}\")                      # CALLING THE FUNCTION\n",
    "yellow(\"KPHB\")"
   ]
  },
  {
   "cell_type": "code",
   "execution_count": 2,
   "id": "86a4e09b",
   "metadata": {},
   "outputs": [
    {
     "name": "stdout",
     "output_type": "stream",
     "text": [
      "sub: 9992\n",
      "mul: 69993\n",
      "div: 1428.4285714285713\n",
      "modulus: 3\n"
     ]
    }
   ],
   "source": [
    "def num(num1,num2):\n",
    "    sub=num1-num2\n",
    "    mul=num1*num2\n",
    "    div=num1/num2                                   \n",
    "    modulus=num1%num2                              # sub,mul,div,modulus with the FUNCTION\n",
    "    print(\"sub:\",sub)\n",
    "    print(\"mul:\",mul)\n",
    "    print(\"div:\",div)\n",
    "    print(\"modulus:\",modulus)\n",
    "num(9999,7)"
   ]
  },
  {
   "cell_type": "code",
   "execution_count": 3,
   "id": "1c6d0967",
   "metadata": {},
   "outputs": [
    {
     "data": {
      "text/plain": [
       "60481729"
      ]
     },
     "execution_count": 3,
     "metadata": {},
     "output_type": "execute_result"
    }
   ],
   "source": [
    "def mul(num):\n",
    "    result=num * num                               \n",
    "    return result\n",
    "mul(7777)"
   ]
  },
  {
   "cell_type": "code",
   "execution_count": 4,
   "id": "152cb49a",
   "metadata": {},
   "outputs": [
    {
     "name": "stdout",
     "output_type": "stream",
     "text": [
      "sqrt of 6666 is 81.64557550780079\n",
      "22 to the power 8 is 54875873536\n"
     ]
    }
   ],
   "source": [
    "import math\n",
    "sqrt=math.sqrt(6666)\n",
    "print(\"sqrt of 6666 is\",sqrt)                      \n",
    "power=pow(22,8)\n",
    "print(\"22 to the power 8 is\",power)"
   ]
  },
  {
   "cell_type": "code",
   "execution_count": 5,
   "id": "0a604a0f",
   "metadata": {},
   "outputs": [
    {
     "name": "stdout",
     "output_type": "stream",
     "text": [
      "490000\n"
     ]
    }
   ],
   "source": [
    "U=lambda K : K * 70\n",
    "print(U(7000))    "
   ]
  },
  {
   "cell_type": "code",
   "execution_count": 6,
   "id": "ae7b2c1a",
   "metadata": {},
   "outputs": [
    {
     "name": "stdout",
     "output_type": "stream",
     "text": [
      "4.265524625267666\n"
     ]
    }
   ],
   "source": [
    "K= lambda M,N : M/N\n",
    "P= K(19920,4670)                                    \n",
    "print(P)"
   ]
  },
  {
   "cell_type": "code",
   "execution_count": 7,
   "id": "eca7e24c",
   "metadata": {},
   "outputs": [
    {
     "name": "stdout",
     "output_type": "stream",
     "text": [
      "From Addagutta society  to Teks Academy the time taken is nearly 30 to 35 minutes\n"
     ]
    }
   ],
   "source": [
    "def N():\n",
    "    B=\"From Addagutta society  to Teks Academy the time taken is nearly 30 to 35 minutes\"\n",
    "    print(B)\n",
    "N()"
   ]
  },
  {
   "cell_type": "code",
   "execution_count": 8,
   "id": "ce770fc6",
   "metadata": {},
   "outputs": [
    {
     "name": "stdout",
     "output_type": "stream",
     "text": [
      "This function is Python Programs for Data Science\n"
     ]
    }
   ],
   "source": [
    "A=\"Python Programs for Data Science\"\n",
    "def D():\n",
    "    print(\"This function is\",A)               \n",
    "D() "
   ]
  },
  {
   "cell_type": "code",
   "execution_count": 10,
   "id": "29a6927a",
   "metadata": {},
   "outputs": [
    {
     "name": "stdout",
     "output_type": "stream",
     "text": [
      "Anil\n",
      "24\n"
     ]
    }
   ],
   "source": [
    "class person:\n",
    "    def __init__(self,name,age):\n",
    "        self.name=name                      # Creating class and object with Function\n",
    "        self.age=age\n",
    "P1=person(\"Anil\",24)\n",
    "print(P1.name)\n",
    "print(P1.age)"
   ]
  },
  {
   "cell_type": "code",
   "execution_count": null,
   "id": "b1d40d08",
   "metadata": {},
   "outputs": [],
   "source": []
  }
 ],
 "metadata": {
  "kernelspec": {
   "display_name": "Python 3 (ipykernel)",
   "language": "python",
   "name": "python3"
  },
  "language_info": {
   "codemirror_mode": {
    "name": "ipython",
    "version": 3
   },
   "file_extension": ".py",
   "mimetype": "text/x-python",
   "name": "python",
   "nbconvert_exporter": "python",
   "pygments_lexer": "ipython3",
   "version": "3.11.5"
  }
 },
 "nbformat": 4,
 "nbformat_minor": 5
}
